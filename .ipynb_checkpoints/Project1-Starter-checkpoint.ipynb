{
 "cells": [
  {
   "cell_type": "code",
   "execution_count": 1,
   "id": "8ae7addb-15ac-4cee-b9e8-a86cd0398204",
   "metadata": {
    "tags": []
   },
   "outputs": [
    {
     "name": "stdout",
     "output_type": "stream",
     "text": [
      "Collecting streamlit\n",
      "  Downloading streamlit-1.24.0-py2.py3-none-any.whl (8.9 MB)\n",
      "                                              0.0/8.9 MB ? eta -:--:--\n",
      "     -                                        0.3/8.9 MB 8.3 MB/s eta 0:00:02\n",
      "     ---------                                2.2/8.9 MB 27.6 MB/s eta 0:00:01\n",
      "     ----------------------                   5.0/8.9 MB 40.2 MB/s eta 0:00:01\n",
      "     ----------------------------------       7.7/8.9 MB 44.8 MB/s eta 0:00:01\n",
      "     ---------------------------------------  8.9/8.9 MB 43.7 MB/s eta 0:00:01\n",
      "     ---------------------------------------- 8.9/8.9 MB 37.9 MB/s eta 0:00:00\n",
      "Collecting altair<6,>=4.0 (from streamlit)\n",
      "  Downloading altair-5.0.1-py3-none-any.whl (471 kB)\n",
      "                                              0.0/471.5 kB ? eta -:--:--\n",
      "     ---------------------------------------- 471.5/471.5 kB ? eta 0:00:00\n",
      "Collecting blinker<2,>=1.0.0 (from streamlit)\n",
      "  Downloading blinker-1.6.2-py3-none-any.whl (13 kB)\n",
      "Collecting cachetools<6,>=4.0 (from streamlit)\n",
      "  Downloading cachetools-5.3.1-py3-none-any.whl (9.3 kB)\n",
      "Requirement already satisfied: click<9,>=7.0 in c:\\users\\uxmas\\anaconda3\\envs\\dev\\lib\\site-packages (from streamlit) (8.0.4)\n",
      "Requirement already satisfied: importlib-metadata<7,>=1.4 in c:\\users\\uxmas\\anaconda3\\envs\\dev\\lib\\site-packages (from streamlit) (6.0.0)\n",
      "Requirement already satisfied: numpy<2,>=1 in c:\\users\\uxmas\\anaconda3\\envs\\dev\\lib\\site-packages (from streamlit) (1.24.3)\n",
      "Requirement already satisfied: packaging<24,>=14.1 in c:\\users\\uxmas\\anaconda3\\envs\\dev\\lib\\site-packages (from streamlit) (23.0)\n",
      "Requirement already satisfied: pandas<3,>=0.25 in c:\\users\\uxmas\\anaconda3\\envs\\dev\\lib\\site-packages (from streamlit) (1.5.3)\n",
      "Requirement already satisfied: pillow<10,>=6.2.0 in c:\\users\\uxmas\\anaconda3\\envs\\dev\\lib\\site-packages (from streamlit) (9.4.0)\n",
      "Collecting protobuf<5,>=3.20 (from streamlit)\n",
      "  Downloading protobuf-4.23.3-cp310-abi3-win_amd64.whl (422 kB)\n",
      "                                              0.0/422.5 kB ? eta -:--:--\n",
      "     ------------------------------------- 422.5/422.5 kB 25.8 MB/s eta 0:00:00\n",
      "Requirement already satisfied: pyarrow>=4.0 in c:\\users\\uxmas\\anaconda3\\envs\\dev\\lib\\site-packages (from streamlit) (11.0.0)\n",
      "Collecting pympler<2,>=0.9 (from streamlit)\n",
      "  Downloading Pympler-1.0.1-py3-none-any.whl (164 kB)\n",
      "                                              0.0/164.8 kB ? eta -:--:--\n",
      "     ---------------------------------------- 164.8/164.8 kB ? eta 0:00:00\n",
      "Requirement already satisfied: python-dateutil<3,>=2 in c:\\users\\uxmas\\anaconda3\\envs\\dev\\lib\\site-packages (from streamlit) (2.8.2)\n",
      "Requirement already satisfied: requests<3,>=2.4 in c:\\users\\uxmas\\anaconda3\\envs\\dev\\lib\\site-packages (from streamlit) (2.29.0)\n",
      "Collecting rich<14,>=10.11.0 (from streamlit)\n",
      "  Downloading rich-13.4.2-py3-none-any.whl (239 kB)\n",
      "                                              0.0/239.4 kB ? eta -:--:--\n",
      "     ---------------------------------------- 239.4/239.4 kB ? eta 0:00:00\n",
      "Requirement already satisfied: tenacity<9,>=8.0.0 in c:\\users\\uxmas\\anaconda3\\envs\\dev\\lib\\site-packages (from streamlit) (8.2.2)\n",
      "Requirement already satisfied: toml<2 in c:\\users\\uxmas\\anaconda3\\envs\\dev\\lib\\site-packages (from streamlit) (0.10.2)\n",
      "Requirement already satisfied: typing-extensions<5,>=4.0.1 in c:\\users\\uxmas\\anaconda3\\envs\\dev\\lib\\site-packages (from streamlit) (4.6.3)\n",
      "Collecting tzlocal<5,>=1.1 (from streamlit)\n",
      "  Downloading tzlocal-4.3.1-py3-none-any.whl (20 kB)\n",
      "Collecting validators<1,>=0.2 (from streamlit)\n",
      "  Downloading validators-0.20.0.tar.gz (30 kB)\n",
      "  Preparing metadata (setup.py): started\n",
      "  Preparing metadata (setup.py): finished with status 'done'\n",
      "Collecting gitpython!=3.1.19,<4,>=3 (from streamlit)\n",
      "  Downloading GitPython-3.1.31-py3-none-any.whl (184 kB)\n",
      "                                              0.0/184.3 kB ? eta -:--:--\n",
      "     ------------------------------------- 184.3/184.3 kB 10.9 MB/s eta 0:00:00\n",
      "Collecting pydeck<1,>=0.1.dev5 (from streamlit)\n",
      "  Downloading pydeck-0.8.1b0-py2.py3-none-any.whl (4.8 MB)\n",
      "                                              0.0/4.8 MB ? eta -:--:--\n",
      "     ----------------------                   2.7/4.8 MB 88.2 MB/s eta 0:00:01\n",
      "     ---------------------------------------  4.8/4.8 MB 75.9 MB/s eta 0:00:01\n",
      "     ---------------------------------------- 4.8/4.8 MB 61.4 MB/s eta 0:00:00\n",
      "Requirement already satisfied: tornado<7,>=6.0.3 in c:\\users\\uxmas\\anaconda3\\envs\\dev\\lib\\site-packages (from streamlit) (6.2)\n",
      "Requirement already satisfied: watchdog in c:\\users\\uxmas\\anaconda3\\envs\\dev\\lib\\site-packages (from streamlit) (2.1.6)\n",
      "Requirement already satisfied: jinja2 in c:\\users\\uxmas\\anaconda3\\envs\\dev\\lib\\site-packages (from altair<6,>=4.0->streamlit) (3.1.2)\n",
      "Requirement already satisfied: jsonschema>=3.0 in c:\\users\\uxmas\\anaconda3\\envs\\dev\\lib\\site-packages (from altair<6,>=4.0->streamlit) (4.17.3)\n",
      "Requirement already satisfied: toolz in c:\\users\\uxmas\\anaconda3\\envs\\dev\\lib\\site-packages (from altair<6,>=4.0->streamlit) (0.12.0)\n",
      "Requirement already satisfied: colorama in c:\\users\\uxmas\\anaconda3\\envs\\dev\\lib\\site-packages (from click<9,>=7.0->streamlit) (0.4.6)\n",
      "Collecting gitdb<5,>=4.0.1 (from gitpython!=3.1.19,<4,>=3->streamlit)\n",
      "  Downloading gitdb-4.0.10-py3-none-any.whl (62 kB)\n",
      "                                              0.0/62.7 kB ? eta -:--:--\n",
      "     ---------------------------------------- 62.7/62.7 kB ? eta 0:00:00\n",
      "Requirement already satisfied: zipp>=0.5 in c:\\users\\uxmas\\anaconda3\\envs\\dev\\lib\\site-packages (from importlib-metadata<7,>=1.4->streamlit) (3.11.0)\n",
      "Requirement already satisfied: pytz>=2020.1 in c:\\users\\uxmas\\anaconda3\\envs\\dev\\lib\\site-packages (from pandas<3,>=0.25->streamlit) (2022.7)\n",
      "Requirement already satisfied: six>=1.5 in c:\\users\\uxmas\\anaconda3\\envs\\dev\\lib\\site-packages (from python-dateutil<3,>=2->streamlit) (1.16.0)\n",
      "Requirement already satisfied: charset-normalizer<4,>=2 in c:\\users\\uxmas\\anaconda3\\envs\\dev\\lib\\site-packages (from requests<3,>=2.4->streamlit) (2.0.4)\n",
      "Requirement already satisfied: idna<4,>=2.5 in c:\\users\\uxmas\\anaconda3\\envs\\dev\\lib\\site-packages (from requests<3,>=2.4->streamlit) (3.4)\n",
      "Requirement already satisfied: urllib3<1.27,>=1.21.1 in c:\\users\\uxmas\\anaconda3\\envs\\dev\\lib\\site-packages (from requests<3,>=2.4->streamlit) (1.26.16)\n",
      "Requirement already satisfied: certifi>=2017.4.17 in c:\\users\\uxmas\\anaconda3\\envs\\dev\\lib\\site-packages (from requests<3,>=2.4->streamlit) (2023.5.7)\n",
      "Requirement already satisfied: markdown-it-py>=2.2.0 in c:\\users\\uxmas\\anaconda3\\envs\\dev\\lib\\site-packages (from rich<14,>=10.11.0->streamlit) (2.2.0)\n",
      "Requirement already satisfied: pygments<3.0.0,>=2.13.0 in c:\\users\\uxmas\\anaconda3\\envs\\dev\\lib\\site-packages (from rich<14,>=10.11.0->streamlit) (2.15.1)\n",
      "Collecting pytz-deprecation-shim (from tzlocal<5,>=1.1->streamlit)\n",
      "  Downloading pytz_deprecation_shim-0.1.0.post0-py2.py3-none-any.whl (15 kB)\n",
      "Collecting tzdata (from tzlocal<5,>=1.1->streamlit)\n",
      "  Downloading tzdata-2023.3-py2.py3-none-any.whl (341 kB)\n",
      "                                              0.0/341.8 kB ? eta -:--:--\n",
      "     ---------------------------------------- 341.8/341.8 kB ? eta 0:00:00\n",
      "Requirement already satisfied: decorator>=3.4.0 in c:\\users\\uxmas\\anaconda3\\envs\\dev\\lib\\site-packages (from validators<1,>=0.2->streamlit) (5.1.1)\n",
      "Collecting smmap<6,>=3.0.1 (from gitdb<5,>=4.0.1->gitpython!=3.1.19,<4,>=3->streamlit)\n",
      "  Downloading smmap-5.0.0-py3-none-any.whl (24 kB)\n",
      "Requirement already satisfied: MarkupSafe>=2.0 in c:\\users\\uxmas\\anaconda3\\envs\\dev\\lib\\site-packages (from jinja2->altair<6,>=4.0->streamlit) (2.1.1)\n",
      "Requirement already satisfied: attrs>=17.4.0 in c:\\users\\uxmas\\anaconda3\\envs\\dev\\lib\\site-packages (from jsonschema>=3.0->altair<6,>=4.0->streamlit) (22.1.0)\n",
      "Requirement already satisfied: pyrsistent!=0.17.0,!=0.17.1,!=0.17.2,>=0.14.0 in c:\\users\\uxmas\\anaconda3\\envs\\dev\\lib\\site-packages (from jsonschema>=3.0->altair<6,>=4.0->streamlit) (0.18.0)\n",
      "Requirement already satisfied: mdurl~=0.1 in c:\\users\\uxmas\\anaconda3\\envs\\dev\\lib\\site-packages (from markdown-it-py>=2.2.0->rich<14,>=10.11.0->streamlit) (0.1.0)\n",
      "Building wheels for collected packages: validators\n",
      "  Building wheel for validators (setup.py): started\n",
      "  Building wheel for validators (setup.py): finished with status 'done'\n",
      "  Created wheel for validators: filename=validators-0.20.0-py3-none-any.whl size=19591 sha256=65a80e987a84e0980c120e280a527e95906cea8fb555435b1e7ea5507b1ce96e\n",
      "  Stored in directory: c:\\users\\uxmas\\appdata\\local\\pip\\cache\\wheels\\f2\\ed\\dd\\d3a556ad245ef9dc570c6bcd2f22886d17b0b408dd3bbb9ac3\n",
      "Successfully built validators\n",
      "Installing collected packages: validators, tzdata, smmap, pympler, protobuf, cachetools, blinker, rich, pytz-deprecation-shim, pydeck, gitdb, tzlocal, gitpython, altair, streamlit\n",
      "Successfully installed altair-5.0.1 blinker-1.6.2 cachetools-5.3.1 gitdb-4.0.10 gitpython-3.1.31 protobuf-4.23.3 pydeck-0.8.1b0 pympler-1.0.1 pytz-deprecation-shim-0.1.0.post0 rich-13.4.2 smmap-5.0.0 streamlit-1.24.0 tzdata-2023.3 tzlocal-4.3.1 validators-0.20.0\n",
      "Note: you may need to restart the kernel to use updated packages.\n"
     ]
    }
   ],
   "source": [
    "pip install streamlit"
   ]
  },
  {
   "cell_type": "code",
   "execution_count": 6,
   "id": "5678005d-0547-4836-931a-0bd56100c4bc",
   "metadata": {
    "tags": []
   },
   "outputs": [],
   "source": [
    "import streamlit as st\n",
    "import pandas as pd\n",
    "import numpy as np\n",
    "from pathlib import Path"
   ]
  },
  {
   "cell_type": "code",
   "execution_count": null,
   "id": "70d2f3b0-2fb3-4a0b-a4b5-81c261579ea4",
   "metadata": {
    "tags": []
   },
   "outputs": [],
   "source": [
    "# Add API urls for the datasources "
   ]
  },
  {
   "cell_type": "code",
   "execution_count": null,
   "id": "67730269-bf30-4edb-b528-0a8dd88a0b21",
   "metadata": {},
   "outputs": [],
   "source": [
    "# Set API key and secret"
   ]
  },
  {
   "cell_type": "code",
   "execution_count": null,
   "id": "3009c469-a58d-486f-a188-3545e6b04acc",
   "metadata": {},
   "outputs": [],
   "source": [
    "# Create API Object"
   ]
  },
  {
   "cell_type": "code",
   "execution_count": null,
   "id": "07718006-1bb0-4d3a-b13e-728c3d6df0e4",
   "metadata": {},
   "outputs": [],
   "source": [
    "# If using csv read csv into dataframes"
   ]
  },
  {
   "cell_type": "code",
   "execution_count": null,
   "id": "3d6791d5-339e-4f86-b468-13d8197fff09",
   "metadata": {},
   "outputs": [],
   "source": [
    "# Pull data for hurricanes for east cost into a dataframe from last 50 years\n",
    "# Pull data for min/max temp into a dataframe for British Columbia for last 50 years\n",
    "# Pull data for droughts into a dataframe for last 50 years"
   ]
  },
  {
   "cell_type": "code",
   "execution_count": null,
   "id": "8643b4aa-ad5f-4d5c-830f-ca5791bd6cd2",
   "metadata": {},
   "outputs": [],
   "source": [
    "# Define function that reads from hurricane_df to show the number of hurricanes reported by year for last 50 years\n",
    "# should pull the hurricane name, location it made landfall, date, highest category reached\n",
    "# store in new df"
   ]
  },
  {
   "cell_type": "code",
   "execution_count": null,
   "id": "13e9c91e-d793-472e-a037-cebcbf106692",
   "metadata": {},
   "outputs": [],
   "source": [
    "# Define function that reads from temp_df to show temperature progression of\n",
    "# hottest days and coldest days\n",
    "# how that trend changes over last 50 years by year\n",
    "# store in new df"
   ]
  },
  {
   "cell_type": "code",
   "execution_count": null,
   "id": "622ca12f-ca81-435e-9103-f0ffe8cb9991",
   "metadata": {},
   "outputs": [],
   "source": [
    "# Define function that reads from droughts_df to map the duration, location in US, severity\n",
    "# calculate percentage of US states that experienced drought per year per severity \n",
    "# store in new df"
   ]
  },
  {
   "cell_type": "code",
   "execution_count": null,
   "id": "7e8c6311-3ada-409c-9b82-88362ca00ce1",
   "metadata": {},
   "outputs": [],
   "source": [
    "# Use the hurricane_final_df to plot a chloropleth that shows areas of greatest change\n",
    "# in frequency and severity of hurricanes year on year on east coast and atlantic"
   ]
  },
  {
   "cell_type": "code",
   "execution_count": null,
   "id": "05c364f6-b2c0-41d6-90f5-e4e9440fa50b",
   "metadata": {},
   "outputs": [],
   "source": [
    "# Use the temp_final_df to plot a histogram that shows changes in number of hot and cold\n",
    "# days for British columbia over the last 50 years to see what that trend looks like"
   ]
  },
  {
   "cell_type": "code",
   "execution_count": null,
   "id": "7e2a78e2-791c-422c-b586-aa43fdb8ee3e",
   "metadata": {},
   "outputs": [],
   "source": [
    "# Use the drought_final_df to plot a chloroploth for US that shows the areas of greatest\n",
    "# change in frequency and severity of droughts year on year"
   ]
  }
 ],
 "metadata": {
  "kernelspec": {
   "display_name": "Python 3 (ipykernel)",
   "language": "python",
   "name": "python3"
  },
  "language_info": {
   "codemirror_mode": {
    "name": "ipython",
    "version": 3
   },
   "file_extension": ".py",
   "mimetype": "text/x-python",
   "name": "python",
   "nbconvert_exporter": "python",
   "pygments_lexer": "ipython3",
   "version": "3.10.11"
  }
 },
 "nbformat": 4,
 "nbformat_minor": 5
}
